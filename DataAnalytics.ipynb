{
 "cells": [
  {
   "cell_type": "markdown",
   "id": "junior-penetration",
   "metadata": {},
   "source": [
    "# Data Analytics\n",
    "\n",
    "We seek to analyse the format of the input dataset, of the SQL queries at hand and obviously determine causalities between input queries and execution time."
   ]
  },
  {
   "cell_type": "markdown",
   "id": "described-homeless",
   "metadata": {},
   "source": [
    "## Part 0: Imports"
   ]
  },
  {
   "cell_type": "code",
   "execution_count": 1,
   "id": "stable-harvest",
   "metadata": {},
   "outputs": [],
   "source": [
    "import pandas as pd"
   ]
  },
  {
   "cell_type": "markdown",
   "id": "medieval-geology",
   "metadata": {},
   "source": [
    "## Part 1: Exploring the datasets\n",
    "\n",
    "In this notebook Pandas will be adopted as a data exploration tool."
   ]
  },
  {
   "cell_type": "code",
   "execution_count": 2,
   "id": "naval-participant",
   "metadata": {},
   "outputs": [],
   "source": [
    "general_log_df = pd.read_json(\"data/general_log.json\")\n",
    "slow_log_df = pd.read_json(\"data/slow_log.json\")"
   ]
  },
  {
   "cell_type": "code",
   "execution_count": 3,
   "id": "round-sullivan",
   "metadata": {},
   "outputs": [
    {
     "name": "stdout",
     "output_type": "stream",
     "text": [
      "<class 'pandas.core.frame.DataFrame'>\n",
      "RangeIndex: 16101 entries, 0 to 16100\n",
      "Data columns (total 6 columns):\n",
      " #   Column        Non-Null Count  Dtype         \n",
      "---  ------        --------------  -----         \n",
      " 0   event_time    16101 non-null  datetime64[ns]\n",
      " 1   user_host     16101 non-null  object        \n",
      " 2   thread_id     16101 non-null  int64         \n",
      " 3   server_id     16101 non-null  int64         \n",
      " 4   command_type  16101 non-null  object        \n",
      " 5   argument      16101 non-null  object        \n",
      "dtypes: datetime64[ns](1), int64(2), object(3)\n",
      "memory usage: 754.9+ KB\n"
     ]
    }
   ],
   "source": [
    "general_log_df.info()"
   ]
  },
  {
   "cell_type": "code",
   "execution_count": 4,
   "id": "radical-sister",
   "metadata": {},
   "outputs": [
    {
     "name": "stdout",
     "output_type": "stream",
     "text": [
      "<class 'pandas.core.frame.DataFrame'>\n",
      "RangeIndex: 15688 entries, 0 to 15687\n",
      "Data columns (total 12 columns):\n",
      " #   Column          Non-Null Count  Dtype         \n",
      "---  ------          --------------  -----         \n",
      " 0   start_time      15688 non-null  datetime64[ns]\n",
      " 1   user_host       15688 non-null  object        \n",
      " 2   query_time      15688 non-null  datetime64[ns]\n",
      " 3   lock_time       15688 non-null  datetime64[ns]\n",
      " 4   rows_sent       15688 non-null  int64         \n",
      " 5   rows_examined   15688 non-null  int64         \n",
      " 6   db              15688 non-null  object        \n",
      " 7   last_insert_id  15688 non-null  int64         \n",
      " 8   insert_id       15688 non-null  int64         \n",
      " 9   server_id       15688 non-null  int64         \n",
      " 10  sql_text        15688 non-null  object        \n",
      " 11  thread_id       15688 non-null  int64         \n",
      "dtypes: datetime64[ns](3), int64(6), object(3)\n",
      "memory usage: 1.4+ MB\n"
     ]
    }
   ],
   "source": [
    "slow_log_df.info()"
   ]
  },
  {
   "cell_type": "markdown",
   "id": "relative-underground",
   "metadata": {},
   "source": [
    "The two dataframes have different schemas: slow_log_df also contains some information about the database lock time, the number of rows that have been somehow manipulated and other debugging information. The semantically common columns still have different names (e.g. event_time vs start_time/query_time).\n",
    "\n",
    "Let us have a look on the statistics of numerical columns for slow_log_df.\n",
    "\n",
    "To satisfy our curiosity, let us see which values appear in the `db` and `*_id` columns."
   ]
  },
  {
   "cell_type": "code",
   "execution_count": 5,
   "id": "organizational-lithuania",
   "metadata": {},
   "outputs": [
    {
     "name": "stdout",
     "output_type": "stream",
     "text": [
      "['tpch' '']\n",
      "[97408076]\n",
      "[67  9 66 65 63 64 62 61 60 59 58 57 40 56 55 54 53 52 51 50 49 48 47 46\n",
      " 45 44 43 42 41 39 38 37 36 35 34 33 20 32 31 30 29 28 27 26 25 24 23 22\n",
      " 21 19 18 14]\n",
      "[0]\n",
      "[0]\n"
     ]
    }
   ],
   "source": [
    "print(slow_log_df[\"db\"].unique())\n",
    "print(slow_log_df[\"server_id\"].unique())\n",
    "print(slow_log_df[\"thread_id\"].unique())\n",
    "print(slow_log_df[\"insert_id\"].unique())\n",
    "print(slow_log_df[\"last_insert_id\"].unique())"
   ]
  },
  {
   "cell_type": "markdown",
   "id": "metropolitan-ghana",
   "metadata": {},
   "source": [
    "As it turns out, the records above are not quite useful. We thus drop them and consider the following:\n",
    "\n",
    "- `query_time`\n",
    "- `lock_time`\n",
    "- `rows_sent`\n",
    "- `rows_examined`\n",
    "- `sql_text`"
   ]
  },
  {
   "cell_type": "code",
   "execution_count": 6,
   "id": "overhead-funeral",
   "metadata": {},
   "outputs": [
    {
     "data": {
      "text/plain": [
       "0            93\n",
       "1            55\n",
       "2            76\n",
       "3           138\n",
       "4            90\n",
       "          ...  \n",
       "15683        74\n",
       "15684       147\n",
       "15685        91\n",
       "15686       102\n",
       "15687    181089\n",
       "Name: query_time, Length: 15688, dtype: int64"
      ]
     },
     "execution_count": 6,
     "metadata": {},
     "output_type": "execute_result"
    }
   ],
   "source": [
    "slow_log_df[\"query_time\"].dt.microsecond"
   ]
  },
  {
   "cell_type": "code",
   "execution_count": 7,
   "id": "amino-currency",
   "metadata": {},
   "outputs": [
    {
     "name": "stderr",
     "output_type": "stream",
     "text": [
      "<ipython-input-7-31917f1af7f2>:6: SettingWithCopyWarning: \n",
      "A value is trying to be set on a copy of a slice from a DataFrame.\n",
      "Try using .loc[row_indexer,col_indexer] = value instead\n",
      "\n",
      "See the caveats in the documentation: https://pandas.pydata.org/pandas-docs/stable/user_guide/indexing.html#returning-a-view-versus-a-copy\n",
      "  slow_log_numerical_df[\"query_time_int\"] = slow_log_numerical_df[\"query_time\"].dt.microsecond\n",
      "<ipython-input-7-31917f1af7f2>:7: SettingWithCopyWarning: \n",
      "A value is trying to be set on a copy of a slice from a DataFrame.\n",
      "Try using .loc[row_indexer,col_indexer] = value instead\n",
      "\n",
      "See the caveats in the documentation: https://pandas.pydata.org/pandas-docs/stable/user_guide/indexing.html#returning-a-view-versus-a-copy\n",
      "  slow_log_numerical_df[\"lock_time_int\"] = slow_log_numerical_df[\"lock_time\"].dt.microsecond\n"
     ]
    },
    {
     "data": {
      "text/html": [
       "<div>\n",
       "<style scoped>\n",
       "    .dataframe tbody tr th:only-of-type {\n",
       "        vertical-align: middle;\n",
       "    }\n",
       "\n",
       "    .dataframe tbody tr th {\n",
       "        vertical-align: top;\n",
       "    }\n",
       "\n",
       "    .dataframe thead th {\n",
       "        text-align: right;\n",
       "    }\n",
       "</style>\n",
       "<table border=\"1\" class=\"dataframe\">\n",
       "  <thead>\n",
       "    <tr style=\"text-align: right;\">\n",
       "      <th></th>\n",
       "      <th>rows_sent</th>\n",
       "      <th>rows_examined</th>\n",
       "      <th>query_time_int</th>\n",
       "      <th>lock_time_int</th>\n",
       "    </tr>\n",
       "  </thead>\n",
       "  <tbody>\n",
       "    <tr>\n",
       "      <th>count</th>\n",
       "      <td>15688.000000</td>\n",
       "      <td>1.568800e+04</td>\n",
       "      <td>15688.000000</td>\n",
       "      <td>15688.000000</td>\n",
       "    </tr>\n",
       "    <tr>\n",
       "      <th>mean</th>\n",
       "      <td>8554.359574</td>\n",
       "      <td>6.093278e+05</td>\n",
       "      <td>144810.271800</td>\n",
       "      <td>155.016382</td>\n",
       "    </tr>\n",
       "    <tr>\n",
       "      <th>std</th>\n",
       "      <td>32730.257214</td>\n",
       "      <td>1.253887e+06</td>\n",
       "      <td>232662.161443</td>\n",
       "      <td>931.420305</td>\n",
       "    </tr>\n",
       "    <tr>\n",
       "      <th>min</th>\n",
       "      <td>0.000000</td>\n",
       "      <td>0.000000e+00</td>\n",
       "      <td>7.000000</td>\n",
       "      <td>0.000000</td>\n",
       "    </tr>\n",
       "    <tr>\n",
       "      <th>25%</th>\n",
       "      <td>1.000000</td>\n",
       "      <td>1.000000e+00</td>\n",
       "      <td>442.000000</td>\n",
       "      <td>0.000000</td>\n",
       "    </tr>\n",
       "    <tr>\n",
       "      <th>50%</th>\n",
       "      <td>1.000000</td>\n",
       "      <td>1.000000e+00</td>\n",
       "      <td>1299.500000</td>\n",
       "      <td>72.000000</td>\n",
       "    </tr>\n",
       "    <tr>\n",
       "      <th>75%</th>\n",
       "      <td>31.250000</td>\n",
       "      <td>3.415950e+05</td>\n",
       "      <td>227597.750000</td>\n",
       "      <td>177.000000</td>\n",
       "    </tr>\n",
       "    <tr>\n",
       "      <th>max</th>\n",
       "      <td>241191.000000</td>\n",
       "      <td>4.501838e+06</td>\n",
       "      <td>999952.000000</td>\n",
       "      <td>71033.000000</td>\n",
       "    </tr>\n",
       "  </tbody>\n",
       "</table>\n",
       "</div>"
      ],
      "text/plain": [
       "           rows_sent  rows_examined  query_time_int  lock_time_int\n",
       "count   15688.000000   1.568800e+04    15688.000000   15688.000000\n",
       "mean     8554.359574   6.093278e+05   144810.271800     155.016382\n",
       "std     32730.257214   1.253887e+06   232662.161443     931.420305\n",
       "min         0.000000   0.000000e+00        7.000000       0.000000\n",
       "25%         1.000000   1.000000e+00      442.000000       0.000000\n",
       "50%         1.000000   1.000000e+00     1299.500000      72.000000\n",
       "75%        31.250000   3.415950e+05   227597.750000     177.000000\n",
       "max    241191.000000   4.501838e+06   999952.000000   71033.000000"
      ]
     },
     "execution_count": 7,
     "metadata": {},
     "output_type": "execute_result"
    }
   ],
   "source": [
    "numerical_cols = [\"query_time\", \"lock_time\", \"rows_sent\",\n",
    "                  \"rows_examined\", \"sql_text\"]\n",
    "\n",
    "# convert datetime64 into int\n",
    "slow_log_numerical_df = slow_log_df[numerical_cols]\n",
    "slow_log_numerical_df[\"query_time_int\"] = slow_log_numerical_df[\"query_time\"].dt.microsecond\n",
    "slow_log_numerical_df[\"lock_time_int\"] = slow_log_numerical_df[\"lock_time\"].dt.microsecond\n",
    "slow_log_numerical_df = slow_log_numerical_df.drop([\"query_time\", \"lock_time\"], axis=1)\n",
    "\n",
    "slow_log_numerical_df.describe(datetime_is_numeric=True)"
   ]
  },
  {
   "cell_type": "markdown",
   "id": "hindu-pledge",
   "metadata": {},
   "source": [
    "A lot can be said right now:\n",
    "    \n",
    "- There is a wild excursion in rows_sent: the minimum is 0, the maximum is 241191, the standard deviation is roughly 32,000. Similar numbers apply to rows_examined\n",
    "- query time ranges from 7 microseconds to 999952 microseconds, i.e. almost an entire second.\n",
    "- These times are heavily unbalanced: for what concerns query_time_int the 25% percentile is just 442 us, the 50% is barely 13000 us (13 ms), the 75% 228 ms.\n",
    "- Lock time seems less useful as it seems \"small\" (in the order of a few microseconds) for the 75% percentile, but has an outlier of 71 ms.\n",
    "\n",
    "A good guess is that the huge loading times are due to many rows being manipulated (this still _ignores_ the causes for that). In a few cells, we will prove this hypothesis.\n",
    "\n",
    "A plot will be more convincing"
   ]
  },
  {
   "cell_type": "code",
   "execution_count": 8,
   "id": "demonstrated-salvation",
   "metadata": {},
   "outputs": [
    {
     "data": {
      "text/plain": [
       "(array([1.5401e+04, 2.2100e+02, 1.3000e+01, 5.0000e+00, 3.0000e+00,\n",
       "        2.0000e+00, 4.0000e+00, 1.0000e+00, 8.0000e+00, 2.0000e+00,\n",
       "        2.0000e+00, 3.0000e+00, 2.0000e+00, 7.0000e+00, 2.0000e+00,\n",
       "        2.0000e+00, 0.0000e+00, 1.0000e+00, 1.0000e+00, 0.0000e+00,\n",
       "        0.0000e+00, 0.0000e+00, 0.0000e+00, 1.0000e+00, 1.0000e+00,\n",
       "        1.0000e+00, 0.0000e+00, 0.0000e+00, 0.0000e+00, 1.0000e+00,\n",
       "        0.0000e+00, 0.0000e+00, 0.0000e+00, 0.0000e+00, 0.0000e+00,\n",
       "        1.0000e+00, 0.0000e+00, 0.0000e+00, 0.0000e+00, 0.0000e+00,\n",
       "        0.0000e+00, 0.0000e+00, 0.0000e+00, 0.0000e+00, 0.0000e+00,\n",
       "        0.0000e+00, 0.0000e+00, 0.0000e+00, 0.0000e+00, 0.0000e+00,\n",
       "        0.0000e+00, 0.0000e+00, 0.0000e+00, 0.0000e+00, 0.0000e+00,\n",
       "        0.0000e+00, 0.0000e+00, 0.0000e+00, 0.0000e+00, 1.0000e+00,\n",
       "        0.0000e+00, 0.0000e+00, 0.0000e+00, 1.0000e+00, 0.0000e+00,\n",
       "        0.0000e+00, 0.0000e+00, 0.0000e+00, 0.0000e+00, 0.0000e+00,\n",
       "        0.0000e+00, 0.0000e+00, 0.0000e+00, 0.0000e+00, 0.0000e+00,\n",
       "        0.0000e+00, 0.0000e+00, 0.0000e+00, 0.0000e+00, 0.0000e+00,\n",
       "        0.0000e+00, 0.0000e+00, 0.0000e+00, 0.0000e+00, 0.0000e+00,\n",
       "        0.0000e+00, 0.0000e+00, 0.0000e+00, 0.0000e+00, 0.0000e+00,\n",
       "        0.0000e+00, 0.0000e+00, 0.0000e+00, 0.0000e+00, 0.0000e+00,\n",
       "        0.0000e+00, 0.0000e+00, 0.0000e+00, 0.0000e+00, 1.0000e+00]),\n",
       " array([    0.  ,   710.33,  1420.66,  2130.99,  2841.32,  3551.65,\n",
       "         4261.98,  4972.31,  5682.64,  6392.97,  7103.3 ,  7813.63,\n",
       "         8523.96,  9234.29,  9944.62, 10654.95, 11365.28, 12075.61,\n",
       "        12785.94, 13496.27, 14206.6 , 14916.93, 15627.26, 16337.59,\n",
       "        17047.92, 17758.25, 18468.58, 19178.91, 19889.24, 20599.57,\n",
       "        21309.9 , 22020.23, 22730.56, 23440.89, 24151.22, 24861.55,\n",
       "        25571.88, 26282.21, 26992.54, 27702.87, 28413.2 , 29123.53,\n",
       "        29833.86, 30544.19, 31254.52, 31964.85, 32675.18, 33385.51,\n",
       "        34095.84, 34806.17, 35516.5 , 36226.83, 36937.16, 37647.49,\n",
       "        38357.82, 39068.15, 39778.48, 40488.81, 41199.14, 41909.47,\n",
       "        42619.8 , 43330.13, 44040.46, 44750.79, 45461.12, 46171.45,\n",
       "        46881.78, 47592.11, 48302.44, 49012.77, 49723.1 , 50433.43,\n",
       "        51143.76, 51854.09, 52564.42, 53274.75, 53985.08, 54695.41,\n",
       "        55405.74, 56116.07, 56826.4 , 57536.73, 58247.06, 58957.39,\n",
       "        59667.72, 60378.05, 61088.38, 61798.71, 62509.04, 63219.37,\n",
       "        63929.7 , 64640.03, 65350.36, 66060.69, 66771.02, 67481.35,\n",
       "        68191.68, 68902.01, 69612.34, 70322.67, 71033.  ]),\n",
       " <BarContainer object of 100 artists>)"
      ]
     },
     "execution_count": 8,
     "metadata": {},
     "output_type": "execute_result"
    },
    {
     "data": {
      "image/png": "[encoded data removed]",
      "text/plain": [
       "<Figure size 432x288 with 2 Axes>"
      ]
     },
     "metadata": {
      "needs_background": "light"
     },
     "output_type": "display_data"
    }
   ],
   "source": [
    "import matplotlib.pyplot as plt\n",
    "import numpy as np\n",
    "\n",
    "# make a histogram on bucketised frequency\n",
    "\n",
    "fig, axs = plt.subplots(1, 2, sharey=True)\n",
    "# bins = np.linspace(0, 1_000_000)\n",
    "axs[0].hist(slow_log_numerical_df[\"query_time_int\"], bins=100)\n",
    "axs[0].hist(slow_log_numerical_df[\"lock_time_int\"], bins=100)"
   ]
  },
  {
   "cell_type": "code",
   "execution_count": 9,
   "id": "documentary-presence",
   "metadata": {},
   "outputs": [
    {
     "data": {
      "image/png": "[encoded data removed]",
      "text/plain": [
       "<Figure size 432x288 with 1 Axes>"
      ]
     },
     "metadata": {
      "needs_background": "light"
     },
     "output_type": "display_data"
    }
   ],
   "source": [
    "# the plots above are unreadable! let us show a log plot.\n",
    "\n",
    "def make_log_plot(series, base=10):\n",
    "    exp = int(np.ceil(np.log(series.max()) / np.log(base)))\n",
    "    bins=[int(x) for x in np.geomspace(1, base**(exp+1), exp+2)]\n",
    "\n",
    "    labels = [\"{} - {}\".format(left, left*base) for left in bins]\n",
    "    log_freqs = pd.cut(series, bins, labels=labels[:-1]).value_counts()\n",
    "\n",
    "    log_freqs.sort_index().plot(kind=\"bar\")\n",
    "\n",
    "make_log_plot(slow_log_numerical_df[\"query_time_int\"])"
   ]
  },
  {
   "cell_type": "markdown",
   "id": "exposed-nomination",
   "metadata": {},
   "source": [
    "The time distribution shows two peaks: the times between 100 us and 1ms, and the times 100,000 us and 1,000,000 us (100 ms and 1s, respectively). Quite obviously, the data does not look sampled from a normal distribution."
   ]
  },
  {
   "cell_type": "code",
   "execution_count": 10,
   "id": "spare-powder",
   "metadata": {},
   "outputs": [
    {
     "data": {
      "image/png": "[encoded data removed]",
      "text/plain": [
       "<Figure size 432x288 with 1 Axes>"
      ]
     },
     "metadata": {
      "needs_background": "light"
     },
     "output_type": "display_data"
    }
   ],
   "source": [
    "make_log_plot(slow_log_numerical_df[\"lock_time_int\"], base=10)"
   ]
  },
  {
   "cell_type": "code",
   "execution_count": 11,
   "id": "baking-assembly",
   "metadata": {},
   "outputs": [
    {
     "data": {
      "image/png": "[encoded data removed]",
      "text/plain": [
       "<Figure size 432x288 with 1 Axes>"
      ]
     },
     "metadata": {
      "needs_background": "light"
     },
     "output_type": "display_data"
    }
   ],
   "source": [
    "# More granular\n",
    "make_log_plot(slow_log_numerical_df[\"lock_time_int\"], base=2)"
   ]
  },
  {
   "cell_type": "markdown",
   "id": "crude-columbia",
   "metadata": {},
   "source": [
    "We confirm the suspect nurtured above about `lock_time`: the times seem centered around 254 us. The distribution is normal-like with relatively short tails, as to be expected."
   ]
  },
  {
   "cell_type": "code",
   "execution_count": 12,
   "id": "preceding-problem",
   "metadata": {},
   "outputs": [
    {
     "data": {
      "text/html": [
       "<div>\n",
       "<style scoped>\n",
       "    .dataframe tbody tr th:only-of-type {\n",
       "        vertical-align: middle;\n",
       "    }\n",
       "\n",
       "    .dataframe tbody tr th {\n",
       "        vertical-align: top;\n",
       "    }\n",
       "\n",
       "    .dataframe thead th {\n",
       "        text-align: right;\n",
       "    }\n",
       "</style>\n",
       "<table border=\"1\" class=\"dataframe\">\n",
       "  <thead>\n",
       "    <tr style=\"text-align: right;\">\n",
       "      <th></th>\n",
       "      <th>rows_sent</th>\n",
       "      <th>rows_examined</th>\n",
       "      <th>query_time_int</th>\n",
       "    </tr>\n",
       "  </thead>\n",
       "  <tbody>\n",
       "    <tr>\n",
       "      <th>count</th>\n",
       "      <td>15688.000000</td>\n",
       "      <td>1.568800e+04</td>\n",
       "      <td>15688.000000</td>\n",
       "    </tr>\n",
       "    <tr>\n",
       "      <th>mean</th>\n",
       "      <td>8554.359574</td>\n",
       "      <td>6.093278e+05</td>\n",
       "      <td>144810.271800</td>\n",
       "    </tr>\n",
       "    <tr>\n",
       "      <th>std</th>\n",
       "      <td>32730.257214</td>\n",
       "      <td>1.253887e+06</td>\n",
       "      <td>232662.161443</td>\n",
       "    </tr>\n",
       "    <tr>\n",
       "      <th>min</th>\n",
       "      <td>0.000000</td>\n",
       "      <td>0.000000e+00</td>\n",
       "      <td>7.000000</td>\n",
       "    </tr>\n",
       "    <tr>\n",
       "      <th>25%</th>\n",
       "      <td>1.000000</td>\n",
       "      <td>1.000000e+00</td>\n",
       "      <td>442.000000</td>\n",
       "    </tr>\n",
       "    <tr>\n",
       "      <th>50%</th>\n",
       "      <td>1.000000</td>\n",
       "      <td>1.000000e+00</td>\n",
       "      <td>1299.500000</td>\n",
       "    </tr>\n",
       "    <tr>\n",
       "      <th>75%</th>\n",
       "      <td>31.250000</td>\n",
       "      <td>3.415950e+05</td>\n",
       "      <td>227597.750000</td>\n",
       "    </tr>\n",
       "    <tr>\n",
       "      <th>max</th>\n",
       "      <td>241191.000000</td>\n",
       "      <td>4.501838e+06</td>\n",
       "      <td>999952.000000</td>\n",
       "    </tr>\n",
       "  </tbody>\n",
       "</table>\n",
       "</div>"
      ],
      "text/plain": [
       "           rows_sent  rows_examined  query_time_int\n",
       "count   15688.000000   1.568800e+04    15688.000000\n",
       "mean     8554.359574   6.093278e+05   144810.271800\n",
       "std     32730.257214   1.253887e+06   232662.161443\n",
       "min         0.000000   0.000000e+00        7.000000\n",
       "25%         1.000000   1.000000e+00      442.000000\n",
       "50%         1.000000   1.000000e+00     1299.500000\n",
       "75%        31.250000   3.415950e+05   227597.750000\n",
       "max    241191.000000   4.501838e+06   999952.000000"
      ]
     },
     "execution_count": 12,
     "metadata": {},
     "output_type": "execute_result"
    }
   ],
   "source": [
    "log_numerical_df = slow_log_numerical_df.drop([\"lock_time_int\"], axis=1)\n",
    "log_numerical_df.describe()"
   ]
  },
  {
   "cell_type": "markdown",
   "id": "collaborative-activity",
   "metadata": {},
   "source": [
    "Let us use Pearson's Correlation test to determine how much `rows_examined` and `query_time_int` are used."
   ]
  },
  {
   "cell_type": "code",
   "execution_count": 15,
   "id": "constitutional-mother",
   "metadata": {},
   "outputs": [
    {
     "data": {
      "text/plain": [
       "(0.5968870258290725, 0.0)"
      ]
     },
     "execution_count": 15,
     "metadata": {},
     "output_type": "execute_result"
    }
   ],
   "source": [
    "import scipy.stats\n",
    "\n",
    "scipy.stats.pearsonr(log_numerical_df[\"rows_examined\"], log_numerical_df[\"query_time_int\"])"
   ]
  },
  {
   "cell_type": "markdown",
   "id": "stone-factor",
   "metadata": {},
   "source": [
    "The correlation seems existing, although not fully linear."
   ]
  },
  {
   "cell_type": "markdown",
   "id": "increased-nickname",
   "metadata": {},
   "source": [
    "## Part 2: SQL query format"
   ]
  },
  {
   "cell_type": "markdown",
   "id": "polar-coordinator",
   "metadata": {},
   "source": [
    "We can now inspect the big elephant in the room: the SQL queries."
   ]
  },
  {
   "cell_type": "code",
   "execution_count": 19,
   "id": "modular-disney",
   "metadata": {},
   "outputs": [
    {
     "data": {
      "text/plain": [
       "0     /* ApplicationName=DataGrip 2020.2.3 */ SET ne...\n",
       "1                                         SHOW WARNINGS\n",
       "2                                         SHOW WARNINGS\n",
       "3     /* ApplicationName=DataGrip 2020.2.3 */ select...\n",
       "4     /* ApplicationName=DataGrip 2020.2.3 */ SET SQ...\n",
       "5                                         SHOW WARNINGS\n",
       "6                SELECT @@session.transaction_read_only\n",
       "7     /* ApplicationName=DataGrip 2020.2.3 */ set se...\n",
       "8                SELECT @@session.transaction_isolation\n",
       "9                                                  Ping\n",
       "10                                                 Ping\n",
       "11                                                 Ping\n",
       "12                            SELECT @@GLOBAL.read_only\n",
       "13                                             SELECT 1\n",
       "14               SELECT value FROM mysql.rds_heartbeat2\n",
       "15                                             SELECT 1\n",
       "16    SELECT count(*) from information_schema.TABLES...\n",
       "17                                             SELECT 1\n",
       "18                                             SELECT 1\n",
       "19                                             SELECT 1\n",
       "20               SELECT @@session.transaction_isolation\n",
       "21                                        SHOW WARNINGS\n",
       "22    /* ApplicationName=DataGrip 2020.2.3 */ select...\n",
       "23    /* ApplicationName=DataGrip 2020.2.3 */ SET SQ...\n",
       "24    /* ApplicationName=DataGrip 2020.2.3 */ SET ne...\n",
       "25                                        SHOW WARNINGS\n",
       "26                                        SHOW WARNINGS\n",
       "27    /* ApplicationName=DataGrip 2020.2.3 */ select...\n",
       "28    /* ApplicationName=DataGrip 2020.2.3 */ SET SQ...\n",
       "29                                        SHOW WARNINGS\n",
       "30               SELECT @@session.transaction_read_only\n",
       "31    /* ApplicationName=DataGrip 2020.2.3 */ set se...\n",
       "32               SELECT @@session.transaction_isolation\n",
       "33                                                 Ping\n",
       "34                                                 Ping\n",
       "35                                                 Ping\n",
       "36                            SELECT @@GLOBAL.read_only\n",
       "37                                             SELECT 1\n",
       "38               SELECT value FROM mysql.rds_heartbeat2\n",
       "39                                             SELECT 1\n",
       "40    SELECT count(*) from information_schema.TABLES...\n",
       "41                                             SELECT 1\n",
       "42                                             SELECT 1\n",
       "43                                             SELECT 1\n",
       "44                            SELECT @@GLOBAL.read_only\n",
       "45                                             SELECT 1\n",
       "46               SELECT value FROM mysql.rds_heartbeat2\n",
       "47                                             SELECT 1\n",
       "48    SELECT count(*) from information_schema.TABLES...\n",
       "49                                             SELECT 1\n",
       "Name: sql_text, dtype: object"
      ]
     },
     "execution_count": 19,
     "metadata": {},
     "output_type": "execute_result"
    }
   ],
   "source": [
    "log_numerical_df[\"sql_text\"].head(50)"
   ]
  },
  {
   "cell_type": "markdown",
   "id": "incomplete-robert",
   "metadata": {},
   "source": []
  }
 ],
 "metadata": {
  "kernelspec": {
   "display_name": "Python 3",
   "language": "python",
   "name": "python3"
  },
  "language_info": {
   "codemirror_mode": {
    "name": "ipython",
    "version": 3
   },
   "file_extension": ".py",
   "mimetype": "text/x-python",
   "name": "python",
   "nbconvert_exporter": "python",
   "pygments_lexer": "ipython3",
   "version": "3.9.2"
  }
 },
 "nbformat": 4,
 "nbformat_minor": 5
}
